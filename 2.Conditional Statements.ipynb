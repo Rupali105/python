{
 "cells": [
  {
   "cell_type": "markdown",
   "id": "c73b4c39",
   "metadata": {},
   "source": [
    "# User Input"
   ]
  },
  {
   "cell_type": "code",
   "execution_count": null,
   "id": "1875c3f9",
   "metadata": {
    "ExecuteTime": {
     "end_time": "2023-02-25T08:28:06.193351Z",
     "start_time": "2023-02-25T08:28:04.548825Z"
    }
   },
   "outputs": [],
   "source": [
    "age = input()"
   ]
  },
  {
   "cell_type": "code",
   "execution_count": null,
   "id": "12472a13",
   "metadata": {
    "ExecuteTime": {
     "end_time": "2023-02-25T08:28:09.847064Z",
     "start_time": "2023-02-25T08:28:09.814759Z"
    }
   },
   "outputs": [],
   "source": [
    "age"
   ]
  },
  {
   "cell_type": "code",
   "execution_count": null,
   "id": "9eea4525",
   "metadata": {
    "ExecuteTime": {
     "end_time": "2023-02-25T08:28:33.982782Z",
     "start_time": "2023-02-25T08:28:33.968734Z"
    }
   },
   "outputs": [],
   "source": [
    "type(age)"
   ]
  },
  {
   "cell_type": "code",
   "execution_count": null,
   "id": "c5bef25f",
   "metadata": {
    "ExecuteTime": {
     "end_time": "2023-02-25T08:29:46.002331Z",
     "start_time": "2023-02-25T08:29:44.404267Z"
    }
   },
   "outputs": [],
   "source": [
    "age = float(input())"
   ]
  },
  {
   "cell_type": "code",
   "execution_count": null,
   "id": "7d128238",
   "metadata": {
    "ExecuteTime": {
     "end_time": "2023-02-25T08:29:48.762086Z",
     "start_time": "2023-02-25T08:29:48.740282Z"
    }
   },
   "outputs": [],
   "source": [
    "age"
   ]
  },
  {
   "cell_type": "code",
   "execution_count": null,
   "id": "ffb85285",
   "metadata": {
    "ExecuteTime": {
     "end_time": "2023-02-25T08:30:55.478803Z",
     "start_time": "2023-02-25T08:30:53.224344Z"
    }
   },
   "outputs": [],
   "source": [
    "age = int(input('Enter your age '))"
   ]
  },
  {
   "cell_type": "markdown",
   "id": "c5ad61e8",
   "metadata": {},
   "source": [
    "# Conditional Statements\n",
    "- if\n",
    "- else\n",
    "- elif"
   ]
  },
  {
   "cell_type": "code",
   "execution_count": 3,
   "id": "b0139f6b",
   "metadata": {
    "ExecuteTime": {
     "end_time": "2023-10-10T03:48:46.743887Z",
     "start_time": "2023-10-10T03:48:46.738542Z"
    }
   },
   "outputs": [
    {
     "name": "stdout",
     "output_type": "stream",
     "text": [
      "It's Virat!\n"
     ]
    }
   ],
   "source": [
    "#Check whether the player is Virat kolhi\n",
    "\n",
    "player = 'Virat'\n",
    "\n",
    "if player == 'Virat':\n",
    "    print(\"It's Virat!\")"
   ]
  },
  {
   "cell_type": "code",
   "execution_count": 4,
   "id": "98d3565c",
   "metadata": {
    "ExecuteTime": {
     "end_time": "2023-10-10T03:51:18.297621Z",
     "start_time": "2023-10-10T03:51:18.287439Z"
    }
   },
   "outputs": [
    {
     "name": "stdout",
     "output_type": "stream",
     "text": [
      "It is not Virat\n"
     ]
    }
   ],
   "source": [
    "player = 'rohit'\n",
    "\n",
    "if player == 'Virat':\n",
    "    print('It is  virat')\n",
    "else:\n",
    "    print('It is not Virat')"
   ]
  },
  {
   "cell_type": "code",
   "execution_count": 6,
   "id": "6e77f881",
   "metadata": {
    "ExecuteTime": {
     "end_time": "2023-10-10T03:55:27.379170Z",
     "start_time": "2023-10-10T03:55:24.296886Z"
    }
   },
   "outputs": [
    {
     "name": "stdout",
     "output_type": "stream",
     "text": [
      "Enter your userID: dfhfjsoid\n",
      "Invalid ID\n"
     ]
    }
   ],
   "source": [
    "user = input('Enter your userID: ')\n",
    "\n",
    "if user == 'abc@123':\n",
    "    print('Access Granted')\n",
    "else:\n",
    "    print('Invalid ID')"
   ]
  },
  {
   "cell_type": "code",
   "execution_count": 9,
   "id": "64a8930d",
   "metadata": {
    "ExecuteTime": {
     "end_time": "2023-10-10T04:00:41.665394Z",
     "start_time": "2023-10-10T04:00:39.609812Z"
    }
   },
   "outputs": [
    {
     "name": "stdout",
     "output_type": "stream",
     "text": [
      "Enter the number: -5\n",
      "It is a negative number\n"
     ]
    }
   ],
   "source": [
    "#Check whether the number is positive/negative\n",
    "\n",
    "num = int(input('Enter the number: '))\n",
    "\n",
    "if num >= 0:\n",
    "    print('It is a positive number')\n",
    "else:\n",
    "    print('It is a negative number')"
   ]
  },
  {
   "cell_type": "code",
   "execution_count": null,
   "id": "4815efb2",
   "metadata": {
    "ExecuteTime": {
     "end_time": "2023-02-25T08:49:32.621916Z",
     "start_time": "2023-02-25T08:49:32.610226Z"
    }
   },
   "outputs": [],
   "source": [
    "#elif"
   ]
  },
  {
   "cell_type": "code",
   "execution_count": 12,
   "id": "8563d6ed",
   "metadata": {
    "ExecuteTime": {
     "end_time": "2023-10-10T04:06:02.139439Z",
     "start_time": "2023-10-10T04:06:00.230245Z"
    }
   },
   "outputs": [
    {
     "name": "stdout",
     "output_type": "stream",
     "text": [
      "Enter the number: -8\n",
      "Negative\n"
     ]
    }
   ],
   "source": [
    "#Check whether the number is positive/negative/zero\n",
    "\n",
    "num = int(input('Enter the number: '))\n",
    "\n",
    "if num > 0:\n",
    "    print('Positive number')\n",
    "elif num == 0:\n",
    "    print('Zero')\n",
    "else:\n",
    "    print('Negative')"
   ]
  },
  {
   "cell_type": "code",
   "execution_count": 21,
   "id": "f21c4a2f",
   "metadata": {
    "ExecuteTime": {
     "end_time": "2023-10-10T04:15:38.410330Z",
     "start_time": "2023-10-10T04:15:36.398195Z"
    }
   },
   "outputs": [
    {
     "name": "stdout",
     "output_type": "stream",
     "text": [
      "Enter your mark: 60\n",
      "C Grade\n"
     ]
    }
   ],
   "source": [
    "# Give grades based on percentages\n",
    "#A : marks >=85\n",
    "#B : marks < 85 and >70\n",
    "#C : makrs <70 and > 60\n",
    "#D \n",
    "\n",
    "marks = int(input('Enter your mark: '))\n",
    "\n",
    "if marks >= 85:\n",
    "    print('A Grade')\n",
    "elif (marks < 85) and (marks >=70):\n",
    "    print('B Grade')\n",
    "elif (marks < 70) and (marks >=60):\n",
    "    print('C Grade')\n",
    "else:\n",
    "    print('D Grade')"
   ]
  },
  {
   "cell_type": "markdown",
   "id": "72b1ca58",
   "metadata": {},
   "source": [
    "# Practice Problem Statement:\n",
    "\n",
    "1. Write a program which will print Century if the player has made more than 100 runs else it should write how many more runs he needs to have to complete the century.\n",
    "2. Write a program to check the number is one digited, two digited and three digited.\n",
    "3. Write a program to check whether the user has entered number 99 or not."
   ]
  },
  {
   "cell_type": "code",
   "execution_count": null,
   "id": "79bb1428",
   "metadata": {},
   "outputs": [],
   "source": []
  },
  {
   "cell_type": "code",
   "execution_count": null,
   "id": "2a821e61",
   "metadata": {},
   "outputs": [],
   "source": []
  }
 ],
 "metadata": {
  "kernelspec": {
   "display_name": "Python 3 (ipykernel)",
   "language": "python",
   "name": "python3"
  },
  "language_info": {
   "codemirror_mode": {
    "name": "ipython",
    "version": 3
   },
   "file_extension": ".py",
   "mimetype": "text/x-python",
   "name": "python",
   "nbconvert_exporter": "python",
   "pygments_lexer": "ipython3",
   "version": "3.9.13"
  }
 },
 "nbformat": 4,
 "nbformat_minor": 5
}
